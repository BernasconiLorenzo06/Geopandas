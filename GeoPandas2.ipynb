{
  "nbformat": 4,
  "nbformat_minor": 0,
  "metadata": {
    "colab": {
      "provenance": [],
      "authorship_tag": "ABX9TyOSrRFrBjCXCp5inJwwUtSA",
      "include_colab_link": true
    },
    "kernelspec": {
      "name": "python3",
      "display_name": "Python 3"
    },
    "language_info": {
      "name": "python"
    }
  },
  "cells": [
    {
      "cell_type": "markdown",
      "metadata": {
        "id": "view-in-github",
        "colab_type": "text"
      },
      "source": [
        "<a href=\"https://colab.research.google.com/github/BernasconiLorenzo06/Geopandas/blob/main/GeoPandas2.ipynb\" target=\"_parent\"><img src=\"https://colab.research.google.com/assets/colab-badge.svg\" alt=\"Open In Colab\"/></a>"
      ]
    },
    {
      "cell_type": "code",
      "execution_count": 2,
      "metadata": {
        "id": "VyYB-zcLVno5",
        "colab": {
          "base_uri": "https://localhost:8080/"
        },
        "outputId": "4efdc973-9b5b-455b-8cf1-7a6cca66925e"
      },
      "outputs": [
        {
          "output_type": "stream",
          "name": "stdout",
          "text": [
            "Looking in indexes: https://pypi.org/simple, https://us-python.pkg.dev/colab-wheels/public/simple/\n",
            "Collecting geopandas\n",
            "  Downloading geopandas-0.12.2-py3-none-any.whl (1.1 MB)\n",
            "\u001b[K     |████████████████████████████████| 1.1 MB 17.9 MB/s \n",
            "\u001b[?25hRequirement already satisfied: packaging in /usr/local/lib/python3.8/dist-packages (from geopandas) (21.3)\n",
            "Requirement already satisfied: pandas>=1.0.0 in /usr/local/lib/python3.8/dist-packages (from geopandas) (1.3.5)\n",
            "Collecting fiona>=1.8\n",
            "  Downloading Fiona-1.8.22-cp38-cp38-manylinux_2_17_x86_64.manylinux2014_x86_64.whl (16.6 MB)\n",
            "\u001b[K     |████████████████████████████████| 16.6 MB 67.0 MB/s \n",
            "\u001b[?25hCollecting pyproj>=2.6.1.post1\n",
            "  Downloading pyproj-3.4.1-cp38-cp38-manylinux_2_17_x86_64.manylinux2014_x86_64.whl (7.8 MB)\n",
            "\u001b[K     |████████████████████████████████| 7.8 MB 57.9 MB/s \n",
            "\u001b[?25hRequirement already satisfied: shapely>=1.7 in /usr/local/lib/python3.8/dist-packages (from geopandas) (2.0.0)\n",
            "Collecting munch\n",
            "  Downloading munch-2.5.0-py2.py3-none-any.whl (10 kB)\n",
            "Requirement already satisfied: click>=4.0 in /usr/local/lib/python3.8/dist-packages (from fiona>=1.8->geopandas) (7.1.2)\n",
            "Requirement already satisfied: certifi in /usr/local/lib/python3.8/dist-packages (from fiona>=1.8->geopandas) (2022.12.7)\n",
            "Requirement already satisfied: setuptools in /usr/local/lib/python3.8/dist-packages (from fiona>=1.8->geopandas) (57.4.0)\n",
            "Collecting cligj>=0.5\n",
            "  Downloading cligj-0.7.2-py3-none-any.whl (7.1 kB)\n",
            "Collecting click-plugins>=1.0\n",
            "  Downloading click_plugins-1.1.1-py2.py3-none-any.whl (7.5 kB)\n",
            "Requirement already satisfied: six>=1.7 in /usr/local/lib/python3.8/dist-packages (from fiona>=1.8->geopandas) (1.15.0)\n",
            "Requirement already satisfied: attrs>=17 in /usr/local/lib/python3.8/dist-packages (from fiona>=1.8->geopandas) (22.1.0)\n",
            "Requirement already satisfied: python-dateutil>=2.7.3 in /usr/local/lib/python3.8/dist-packages (from pandas>=1.0.0->geopandas) (2.8.2)\n",
            "Requirement already satisfied: numpy>=1.17.3 in /usr/local/lib/python3.8/dist-packages (from pandas>=1.0.0->geopandas) (1.21.6)\n",
            "Requirement already satisfied: pytz>=2017.3 in /usr/local/lib/python3.8/dist-packages (from pandas>=1.0.0->geopandas) (2022.6)\n",
            "Requirement already satisfied: pyparsing!=3.0.5,>=2.0.2 in /usr/local/lib/python3.8/dist-packages (from packaging->geopandas) (3.0.9)\n",
            "Installing collected packages: munch, cligj, click-plugins, pyproj, fiona, geopandas\n",
            "Successfully installed click-plugins-1.1.1 cligj-0.7.2 fiona-1.8.22 geopandas-0.12.2 munch-2.5.0 pyproj-3.4.1\n"
          ]
        }
      ],
      "source": [
        "!pip install geopandas"
      ]
    },
    {
      "cell_type": "code",
      "source": [
        "%matplotlib inline\n",
        "import pandas as pd\n",
        "import geopandas"
      ],
      "metadata": {
        "id": "GwCi8YjoXJqT"
      },
      "execution_count": 3,
      "outputs": []
    },
    {
      "cell_type": "code",
      "source": [
        "#legga i diversi file \n",
        "countries = geopandas.read_file(\"https://github.com/jorisvandenbossche/geopandas-tutorial/blob/main/data/ne_110m_admin_0_countries.zip?raw=true\")\n",
        "cities = geopandas.read_file(\"https://github.com/jorisvandenbossche/geopandas-tutorial/blob/main/data/ne_110m_populated_places.zip?raw=true\")\n",
        "rivers = geopandas.read_file(\"https://github.com/jorisvandenbossche/geopandas-tutorial/blob/main/data/ne_50m_rivers_lake_centerlines.zip?raw=true\")"
      ],
      "metadata": {
        "id": "YVvgJ8g5XRmC"
      },
      "execution_count": 4,
      "outputs": []
    },
    {
      "cell_type": "code",
      "source": [
        "#Un GeoDataFrame o GeoSeries ha un (.crs) attributo che contiene (facoltativamente) una descrizione del sistema di riferimento delle coordinate delle geometrie:"
      ],
      "metadata": {
        "id": "36NyeRWyX90B"
      },
      "execution_count": 5,
      "outputs": []
    },
    {
      "cell_type": "code",
      "source": [
        "countries.crs"
      ],
      "metadata": {
        "id": "s2lnooufYfVr",
        "colab": {
          "base_uri": "https://localhost:8080/"
        },
        "outputId": "e58775cb-44a9-4839-ac54-610965a0bb00"
      },
      "execution_count": 6,
      "outputs": [
        {
          "output_type": "execute_result",
          "data": {
            "text/plain": [
              "<Geographic 2D CRS: EPSG:4326>\n",
              "Name: WGS 84\n",
              "Axis Info [ellipsoidal]:\n",
              "- Lat[north]: Geodetic latitude (degree)\n",
              "- Lon[east]: Geodetic longitude (degree)\n",
              "Area of Use:\n",
              "- name: World.\n",
              "- bounds: (-180.0, -90.0, 180.0, 90.0)\n",
              "Datum: World Geodetic System 1984 ensemble\n",
              "- Ellipsoid: WGS 84\n",
              "- Prime Meridian: Greenwich"
            ]
          },
          "metadata": {},
          "execution_count": 6
        }
      ]
    },
    {
      "cell_type": "code",
      "source": [
        "#crea la cartine di tutti i countries\n",
        "countries.plot()"
      ],
      "metadata": {
        "colab": {
          "base_uri": "https://localhost:8080/",
          "height": 227
        },
        "id": "K2GMJMRRYl06",
        "outputId": "4aa2c4d5-0127-4a80-9d70-ee98eacd5775"
      },
      "execution_count": 7,
      "outputs": [
        {
          "output_type": "execute_result",
          "data": {
            "text/plain": [
              "<matplotlib.axes._subplots.AxesSubplot at 0x7f546ac068b0>"
            ]
          },
          "metadata": {},
          "execution_count": 7
        },
        {
          "output_type": "display_data",
          "data": {
            "text/plain": [
              "<Figure size 432x288 with 1 Axes>"
            ],
            "image/png": "[encoded data removed]"
          },
          "metadata": {
            "needs_background": "light"
          }
        }
      ]
    },
    {
      "cell_type": "code",
      "source": [
        "#visualizza tutti gli stati che sono dicìversida antartica\n",
        "countries = countries[(countries['name'] != \"Antarctica\")]\n",
        "countries"
      ],
      "metadata": {
        "id": "Rmi532xdYzqa",
        "colab": {
          "base_uri": "https://localhost:8080/",
          "height": 424
        },
        "outputId": "85de0824-24be-4ff0-ff05-8abaf5fda75b"
      },
      "execution_count": 8,
      "outputs": [
        {
          "output_type": "execute_result",
          "data": {
            "text/plain": [
              "    iso_a3                  name      continent     pop_est  gdp_md_est  \\\n",
              "0      AFG           Afghanistan           Asia  34124811.0     64080.0   \n",
              "1      AGO                Angola         Africa  29310273.0    189000.0   \n",
              "2      ALB               Albania         Europe   3047987.0     33900.0   \n",
              "3      ARE  United Arab Emirates           Asia   6072475.0    667200.0   \n",
              "4      ARG             Argentina  South America  44293293.0    879400.0   \n",
              "..     ...                   ...            ...         ...         ...   \n",
              "172    VUT               Vanuatu        Oceania    282814.0       723.0   \n",
              "173    YEM                 Yemen           Asia  28036829.0     73450.0   \n",
              "174    ZAF          South Africa         Africa  54841552.0    739100.0   \n",
              "175    ZMB                Zambia         Africa  15972000.0     65170.0   \n",
              "176    ZWE              Zimbabwe         Africa  13805084.0     28330.0   \n",
              "\n",
              "                                              geometry  \n",
              "0    POLYGON ((61.21082 35.65007, 62.23065 35.27066...  \n",
              "1    MULTIPOLYGON (((23.90415 -11.72228, 24.07991 -...  \n",
              "2    POLYGON ((21.02004 40.84273, 20.99999 40.58000...  \n",
              "3    POLYGON ((51.57952 24.24550, 51.75744 24.29407...  \n",
              "4    MULTIPOLYGON (((-66.95992 -54.89681, -67.56244...  \n",
              "..                                                 ...  \n",
              "172  MULTIPOLYGON (((167.84488 -16.46633, 167.51518...  \n",
              "173  POLYGON ((52.00001 19.00000, 52.78218 17.34974...  \n",
              "174  POLYGON ((19.89577 -24.76779, 20.16573 -24.917...  \n",
              "175  POLYGON ((23.21505 -17.52312, 22.56248 -16.898...  \n",
              "176  POLYGON ((29.43219 -22.09131, 28.79466 -21.639...  \n",
              "\n",
              "[176 rows x 6 columns]"
            ],
            "text/html": [
              "\n",
              "  <div id=\"df-63070714-a4ff-4e7b-bf99-04b0448cc697\">\n",
              "    <div class=\"colab-df-container\">\n",
              "      <div>\n",
              "<style scoped>\n",
              "    .dataframe tbody tr th:only-of-type {\n",
              "        vertical-align: middle;\n",
              "    }\n",
              "\n",
              "    .dataframe tbody tr th {\n",
              "        vertical-align: top;\n",
              "    }\n",
              "\n",
              "    .dataframe thead th {\n",
              "        text-align: right;\n",
              "    }\n",
              "</style>\n",
              "<table border=\"1\" class=\"dataframe\">\n",
              "  <thead>\n",
              "    <tr style=\"text-align: right;\">\n",
              "      <th></th>\n",
              "      <th>iso_a3</th>\n",
              "      <th>name</th>\n",
              "      <th>continent</th>\n",
              "      <th>pop_est</th>\n",
              "      <th>gdp_md_est</th>\n",
              "      <th>geometry</th>\n",
              "    </tr>\n",
              "  </thead>\n",
              "  <tbody>\n",
              "    <tr>\n",
              "      <th>0</th>\n",
              "      <td>AFG</td>\n",
              "      <td>Afghanistan</td>\n",
              "      <td>Asia</td>\n",
              "      <td>34124811.0</td>\n",
              "      <td>64080.0</td>\n",
              "      <td>POLYGON ((61.21082 35.65007, 62.23065 35.27066...</td>\n",
              "    </tr>\n",
              "    <tr>\n",
              "      <th>1</th>\n",
              "      <td>AGO</td>\n",
              "      <td>Angola</td>\n",
              "      <td>Africa</td>\n",
              "      <td>29310273.0</td>\n",
              "      <td>189000.0</td>\n",
              "      <td>MULTIPOLYGON (((23.90415 -11.72228, 24.07991 -...</td>\n",
              "    </tr>\n",
              "    <tr>\n",
              "      <th>2</th>\n",
              "      <td>ALB</td>\n",
              "      <td>Albania</td>\n",
              "      <td>Europe</td>\n",
              "      <td>3047987.0</td>\n",
              "      <td>33900.0</td>\n",
              "      <td>POLYGON ((21.02004 40.84273, 20.99999 40.58000...</td>\n",
              "    </tr>\n",
              "    <tr>\n",
              "      <th>3</th>\n",
              "      <td>ARE</td>\n",
              "      <td>United Arab Emirates</td>\n",
              "      <td>Asia</td>\n",
              "      <td>6072475.0</td>\n",
              "      <td>667200.0</td>\n",
              "      <td>POLYGON ((51.57952 24.24550, 51.75744 24.29407...</td>\n",
              "    </tr>\n",
              "    <tr>\n",
              "      <th>4</th>\n",
              "      <td>ARG</td>\n",
              "      <td>Argentina</td>\n",
              "      <td>South America</td>\n",
              "      <td>44293293.0</td>\n",
              "      <td>879400.0</td>\n",
              "      <td>MULTIPOLYGON (((-66.95992 -54.89681, -67.56244...</td>\n",
              "    </tr>\n",
              "    <tr>\n",
              "      <th>...</th>\n",
              "      <td>...</td>\n",
              "      <td>...</td>\n",
              "      <td>...</td>\n",
              "      <td>...</td>\n",
              "      <td>...</td>\n",
              "      <td>...</td>\n",
              "    </tr>\n",
              "    <tr>\n",
              "      <th>172</th>\n",
              "      <td>VUT</td>\n",
              "      <td>Vanuatu</td>\n",
              "      <td>Oceania</td>\n",
              "      <td>282814.0</td>\n",
              "      <td>723.0</td>\n",
              "      <td>MULTIPOLYGON (((167.84488 -16.46633, 167.51518...</td>\n",
              "    </tr>\n",
              "    <tr>\n",
              "      <th>173</th>\n",
              "      <td>YEM</td>\n",
              "      <td>Yemen</td>\n",
              "      <td>Asia</td>\n",
              "      <td>28036829.0</td>\n",
              "      <td>73450.0</td>\n",
              "      <td>POLYGON ((52.00001 19.00000, 52.78218 17.34974...</td>\n",
              "    </tr>\n",
              "    <tr>\n",
              "      <th>174</th>\n",
              "      <td>ZAF</td>\n",
              "      <td>South Africa</td>\n",
              "      <td>Africa</td>\n",
              "      <td>54841552.0</td>\n",
              "      <td>739100.0</td>\n",
              "      <td>POLYGON ((19.89577 -24.76779, 20.16573 -24.917...</td>\n",
              "    </tr>\n",
              "    <tr>\n",
              "      <th>175</th>\n",
              "      <td>ZMB</td>\n",
              "      <td>Zambia</td>\n",
              "      <td>Africa</td>\n",
              "      <td>15972000.0</td>\n",
              "      <td>65170.0</td>\n",
              "      <td>POLYGON ((23.21505 -17.52312, 22.56248 -16.898...</td>\n",
              "    </tr>\n",
              "    <tr>\n",
              "      <th>176</th>\n",
              "      <td>ZWE</td>\n",
              "      <td>Zimbabwe</td>\n",
              "      <td>Africa</td>\n",
              "      <td>13805084.0</td>\n",
              "      <td>28330.0</td>\n",
              "      <td>POLYGON ((29.43219 -22.09131, 28.79466 -21.639...</td>\n",
              "    </tr>\n",
              "  </tbody>\n",
              "</table>\n",
              "<p>176 rows × 6 columns</p>\n",
              "</div>\n",
              "      <button class=\"colab-df-convert\" onclick=\"convertToInteractive('df-63070714-a4ff-4e7b-bf99-04b0448cc697')\"\n",
              "              title=\"Convert this dataframe to an interactive table.\"\n",
              "              style=\"display:none;\">\n",
              "        \n",
              "  <svg xmlns=\"http://www.w3.org/2000/svg\" height=\"24px\"viewBox=\"0 0 24 24\"\n",
              "       width=\"24px\">\n",
              "    <path d=\"M0 0h24v24H0V0z\" fill=\"none\"/>\n",
              "    <path d=\"M18.56 5.44l.94 2.06.94-2.06 2.06-.94-2.06-.94-.94-2.06-.94 2.06-2.06.94zm-11 1L8.5 8.5l.94-2.06 2.06-.94-2.06-.94L8.5 2.5l-.94 2.06-2.06.94zm10 10l.94 2.06.94-2.06 2.06-.94-2.06-.94-.94-2.06-.94 2.06-2.06.94z\"/><path d=\"M17.41 7.96l-1.37-1.37c-.4-.4-.92-.59-1.43-.59-.52 0-1.04.2-1.43.59L10.3 9.45l-7.72 7.72c-.78.78-.78 2.05 0 2.83L4 21.41c.39.39.9.59 1.41.59.51 0 1.02-.2 1.41-.59l7.78-7.78 2.81-2.81c.8-.78.8-2.07 0-2.86zM5.41 20L4 18.59l7.72-7.72 1.47 1.35L5.41 20z\"/>\n",
              "  </svg>\n",
              "      </button>\n",
              "      \n",
              "  <style>\n",
              "    .colab-df-container {\n",
              "      display:flex;\n",
              "      flex-wrap:wrap;\n",
              "      gap: 12px;\n",
              "    }\n",
              "\n",
              "    .colab-df-convert {\n",
              "      background-color: #E8F0FE;\n",
              "      border: none;\n",
              "      border-radius: 50%;\n",
              "      cursor: pointer;\n",
              "      display: none;\n",
              "      fill: #1967D2;\n",
              "      height: 32px;\n",
              "      padding: 0 0 0 0;\n",
              "      width: 32px;\n",
              "    }\n",
              "\n",
              "    .colab-df-convert:hover {\n",
              "      background-color: #E2EBFA;\n",
              "      box-shadow: 0px 1px 2px rgba(60, 64, 67, 0.3), 0px 1px 3px 1px rgba(60, 64, 67, 0.15);\n",
              "      fill: #174EA6;\n",
              "    }\n",
              "\n",
              "    [theme=dark] .colab-df-convert {\n",
              "      background-color: #3B4455;\n",
              "      fill: #D2E3FC;\n",
              "    }\n",
              "\n",
              "    [theme=dark] .colab-df-convert:hover {\n",
              "      background-color: #434B5C;\n",
              "      box-shadow: 0px 1px 3px 1px rgba(0, 0, 0, 0.15);\n",
              "      filter: drop-shadow(0px 1px 2px rgba(0, 0, 0, 0.3));\n",
              "      fill: #FFFFFF;\n",
              "    }\n",
              "  </style>\n",
              "\n",
              "      <script>\n",
              "        const buttonEl =\n",
              "          document.querySelector('#df-63070714-a4ff-4e7b-bf99-04b0448cc697 button.colab-df-convert');\n",
              "        buttonEl.style.display =\n",
              "          google.colab.kernel.accessAllowed ? 'block' : 'none';\n",
              "\n",
              "        async function convertToInteractive(key) {\n",
              "          const element = document.querySelector('#df-63070714-a4ff-4e7b-bf99-04b0448cc697');\n",
              "          const dataTable =\n",
              "            await google.colab.kernel.invokeFunction('convertToInteractive',\n",
              "                                                     [key], {});\n",
              "          if (!dataTable) return;\n",
              "\n",
              "          const docLinkHtml = 'Like what you see? Visit the ' +\n",
              "            '<a target=\"_blank\" href=https://colab.research.google.com/notebooks/data_table.ipynb>data table notebook</a>'\n",
              "            + ' to learn more about interactive tables.';\n",
              "          element.innerHTML = '';\n",
              "          dataTable['output_type'] = 'display_data';\n",
              "          await google.colab.output.renderOutput(dataTable, element);\n",
              "          const docLink = document.createElement('div');\n",
              "          docLink.innerHTML = docLinkHtml;\n",
              "          element.appendChild(docLink);\n",
              "        }\n",
              "      </script>\n",
              "    </div>\n",
              "  </div>\n",
              "  "
            ]
          },
          "metadata": {},
          "execution_count": 8
        }
      ]
    },
    {
      "cell_type": "code",
      "source": [
        "countries_mercator = countries.to_crs(epsg=3395)\n",
        "countries_mercator"
      ],
      "metadata": {
        "id": "G7jTVeU2ZYOJ",
        "colab": {
          "base_uri": "https://localhost:8080/",
          "height": 424
        },
        "outputId": "9399a147-f87a-416d-8f90-c14487421a0f"
      },
      "execution_count": 9,
      "outputs": [
        {
          "output_type": "execute_result",
          "data": {
            "text/plain": [
              "    iso_a3                  name      continent     pop_est  gdp_md_est  \\\n",
              "0      AFG           Afghanistan           Asia  34124811.0     64080.0   \n",
              "1      AGO                Angola         Africa  29310273.0    189000.0   \n",
              "2      ALB               Albania         Europe   3047987.0     33900.0   \n",
              "3      ARE  United Arab Emirates           Asia   6072475.0    667200.0   \n",
              "4      ARG             Argentina  South America  44293293.0    879400.0   \n",
              "..     ...                   ...            ...         ...         ...   \n",
              "172    VUT               Vanuatu        Oceania    282814.0       723.0   \n",
              "173    YEM                 Yemen           Asia  28036829.0     73450.0   \n",
              "174    ZAF          South Africa         Africa  54841552.0    739100.0   \n",
              "175    ZMB                Zambia         Africa  15972000.0     65170.0   \n",
              "176    ZWE              Zimbabwe         Africa  13805084.0     28330.0   \n",
              "\n",
              "                                              geometry  \n",
              "0    POLYGON ((6813956.990 4227673.562, 6927484.435...  \n",
              "1    MULTIPOLYGON (((2660998.216 -1305442.810, 2680...  \n",
              "2    POLYGON ((2339940.185 4961221.199, 2337708.178...  \n",
              "3    POLYGON ((5741805.754 2765811.385, 5761611.935...  \n",
              "4    MULTIPOLYGON (((-7453944.198 -7306880.704, -75...  \n",
              "..                                                 ...  \n",
              "172  MULTIPOLYGON (((18684406.211 -1846685.560, 186...  \n",
              "173  POLYGON ((5788614.612 2141032.017, 5875685.877...  \n",
              "174  POLYGON ((2214786.747 -2829354.878, 2244838.29...  \n",
              "175  POLYGON ((2584287.373 -1968946.360, 2511643.61...  \n",
              "176  POLYGON ((3276376.220 -2506428.984, 3205406.46...  \n",
              "\n",
              "[176 rows x 6 columns]"
            ],
            "text/html": [
              "\n",
              "  <div id=\"df-40b658e9-21c7-4faf-a3c9-68a8970ff678\">\n",
              "    <div class=\"colab-df-container\">\n",
              "      <div>\n",
              "<style scoped>\n",
              "    .dataframe tbody tr th:only-of-type {\n",
              "        vertical-align: middle;\n",
              "    }\n",
              "\n",
              "    .dataframe tbody tr th {\n",
              "        vertical-align: top;\n",
              "    }\n",
              "\n",
              "    .dataframe thead th {\n",
              "        text-align: right;\n",
              "    }\n",
              "</style>\n",
              "<table border=\"1\" class=\"dataframe\">\n",
              "  <thead>\n",
              "    <tr style=\"text-align: right;\">\n",
              "      <th></th>\n",
              "      <th>iso_a3</th>\n",
              "      <th>name</th>\n",
              "      <th>continent</th>\n",
              "      <th>pop_est</th>\n",
              "      <th>gdp_md_est</th>\n",
              "      <th>geometry</th>\n",
              "    </tr>\n",
              "  </thead>\n",
              "  <tbody>\n",
              "    <tr>\n",
              "      <th>0</th>\n",
              "      <td>AFG</td>\n",
              "      <td>Afghanistan</td>\n",
              "      <td>Asia</td>\n",
              "      <td>34124811.0</td>\n",
              "      <td>64080.0</td>\n",
              "      <td>POLYGON ((6813956.990 4227673.562, 6927484.435...</td>\n",
              "    </tr>\n",
              "    <tr>\n",
              "      <th>1</th>\n",
              "      <td>AGO</td>\n",
              "      <td>Angola</td>\n",
              "      <td>Africa</td>\n",
              "      <td>29310273.0</td>\n",
              "      <td>189000.0</td>\n",
              "      <td>MULTIPOLYGON (((2660998.216 -1305442.810, 2680...</td>\n",
              "    </tr>\n",
              "    <tr>\n",
              "      <th>2</th>\n",
              "      <td>ALB</td>\n",
              "      <td>Albania</td>\n",
              "      <td>Europe</td>\n",
              "      <td>3047987.0</td>\n",
              "      <td>33900.0</td>\n",
              "      <td>POLYGON ((2339940.185 4961221.199, 2337708.178...</td>\n",
              "    </tr>\n",
              "    <tr>\n",
              "      <th>3</th>\n",
              "      <td>ARE</td>\n",
              "      <td>United Arab Emirates</td>\n",
              "      <td>Asia</td>\n",
              "      <td>6072475.0</td>\n",
              "      <td>667200.0</td>\n",
              "      <td>POLYGON ((5741805.754 2765811.385, 5761611.935...</td>\n",
              "    </tr>\n",
              "    <tr>\n",
              "      <th>4</th>\n",
              "      <td>ARG</td>\n",
              "      <td>Argentina</td>\n",
              "      <td>South America</td>\n",
              "      <td>44293293.0</td>\n",
              "      <td>879400.0</td>\n",
              "      <td>MULTIPOLYGON (((-7453944.198 -7306880.704, -75...</td>\n",
              "    </tr>\n",
              "    <tr>\n",
              "      <th>...</th>\n",
              "      <td>...</td>\n",
              "      <td>...</td>\n",
              "      <td>...</td>\n",
              "      <td>...</td>\n",
              "      <td>...</td>\n",
              "      <td>...</td>\n",
              "    </tr>\n",
              "    <tr>\n",
              "      <th>172</th>\n",
              "      <td>VUT</td>\n",
              "      <td>Vanuatu</td>\n",
              "      <td>Oceania</td>\n",
              "      <td>282814.0</td>\n",
              "      <td>723.0</td>\n",
              "      <td>MULTIPOLYGON (((18684406.211 -1846685.560, 186...</td>\n",
              "    </tr>\n",
              "    <tr>\n",
              "      <th>173</th>\n",
              "      <td>YEM</td>\n",
              "      <td>Yemen</td>\n",
              "      <td>Asia</td>\n",
              "      <td>28036829.0</td>\n",
              "      <td>73450.0</td>\n",
              "      <td>POLYGON ((5788614.612 2141032.017, 5875685.877...</td>\n",
              "    </tr>\n",
              "    <tr>\n",
              "      <th>174</th>\n",
              "      <td>ZAF</td>\n",
              "      <td>South Africa</td>\n",
              "      <td>Africa</td>\n",
              "      <td>54841552.0</td>\n",
              "      <td>739100.0</td>\n",
              "      <td>POLYGON ((2214786.747 -2829354.878, 2244838.29...</td>\n",
              "    </tr>\n",
              "    <tr>\n",
              "      <th>175</th>\n",
              "      <td>ZMB</td>\n",
              "      <td>Zambia</td>\n",
              "      <td>Africa</td>\n",
              "      <td>15972000.0</td>\n",
              "      <td>65170.0</td>\n",
              "      <td>POLYGON ((2584287.373 -1968946.360, 2511643.61...</td>\n",
              "    </tr>\n",
              "    <tr>\n",
              "      <th>176</th>\n",
              "      <td>ZWE</td>\n",
              "      <td>Zimbabwe</td>\n",
              "      <td>Africa</td>\n",
              "      <td>13805084.0</td>\n",
              "      <td>28330.0</td>\n",
              "      <td>POLYGON ((3276376.220 -2506428.984, 3205406.46...</td>\n",
              "    </tr>\n",
              "  </tbody>\n",
              "</table>\n",
              "<p>176 rows × 6 columns</p>\n",
              "</div>\n",
              "      <button class=\"colab-df-convert\" onclick=\"convertToInteractive('df-40b658e9-21c7-4faf-a3c9-68a8970ff678')\"\n",
              "              title=\"Convert this dataframe to an interactive table.\"\n",
              "              style=\"display:none;\">\n",
              "        \n",
              "  <svg xmlns=\"http://www.w3.org/2000/svg\" height=\"24px\"viewBox=\"0 0 24 24\"\n",
              "       width=\"24px\">\n",
              "    <path d=\"M0 0h24v24H0V0z\" fill=\"none\"/>\n",
              "    <path d=\"M18.56 5.44l.94 2.06.94-2.06 2.06-.94-2.06-.94-.94-2.06-.94 2.06-2.06.94zm-11 1L8.5 8.5l.94-2.06 2.06-.94-2.06-.94L8.5 2.5l-.94 2.06-2.06.94zm10 10l.94 2.06.94-2.06 2.06-.94-2.06-.94-.94-2.06-.94 2.06-2.06.94z\"/><path d=\"M17.41 7.96l-1.37-1.37c-.4-.4-.92-.59-1.43-.59-.52 0-1.04.2-1.43.59L10.3 9.45l-7.72 7.72c-.78.78-.78 2.05 0 2.83L4 21.41c.39.39.9.59 1.41.59.51 0 1.02-.2 1.41-.59l7.78-7.78 2.81-2.81c.8-.78.8-2.07 0-2.86zM5.41 20L4 18.59l7.72-7.72 1.47 1.35L5.41 20z\"/>\n",
              "  </svg>\n",
              "      </button>\n",
              "      \n",
              "  <style>\n",
              "    .colab-df-container {\n",
              "      display:flex;\n",
              "      flex-wrap:wrap;\n",
              "      gap: 12px;\n",
              "    }\n",
              "\n",
              "    .colab-df-convert {\n",
              "      background-color: #E8F0FE;\n",
              "      border: none;\n",
              "      border-radius: 50%;\n",
              "      cursor: pointer;\n",
              "      display: none;\n",
              "      fill: #1967D2;\n",
              "      height: 32px;\n",
              "      padding: 0 0 0 0;\n",
              "      width: 32px;\n",
              "    }\n",
              "\n",
              "    .colab-df-convert:hover {\n",
              "      background-color: #E2EBFA;\n",
              "      box-shadow: 0px 1px 2px rgba(60, 64, 67, 0.3), 0px 1px 3px 1px rgba(60, 64, 67, 0.15);\n",
              "      fill: #174EA6;\n",
              "    }\n",
              "\n",
              "    [theme=dark] .colab-df-convert {\n",
              "      background-color: #3B4455;\n",
              "      fill: #D2E3FC;\n",
              "    }\n",
              "\n",
              "    [theme=dark] .colab-df-convert:hover {\n",
              "      background-color: #434B5C;\n",
              "      box-shadow: 0px 1px 3px 1px rgba(0, 0, 0, 0.15);\n",
              "      filter: drop-shadow(0px 1px 2px rgba(0, 0, 0, 0.3));\n",
              "      fill: #FFFFFF;\n",
              "    }\n",
              "  </style>\n",
              "\n",
              "      <script>\n",
              "        const buttonEl =\n",
              "          document.querySelector('#df-40b658e9-21c7-4faf-a3c9-68a8970ff678 button.colab-df-convert');\n",
              "        buttonEl.style.display =\n",
              "          google.colab.kernel.accessAllowed ? 'block' : 'none';\n",
              "\n",
              "        async function convertToInteractive(key) {\n",
              "          const element = document.querySelector('#df-40b658e9-21c7-4faf-a3c9-68a8970ff678');\n",
              "          const dataTable =\n",
              "            await google.colab.kernel.invokeFunction('convertToInteractive',\n",
              "                                                     [key], {});\n",
              "          if (!dataTable) return;\n",
              "\n",
              "          const docLinkHtml = 'Like what you see? Visit the ' +\n",
              "            '<a target=\"_blank\" href=https://colab.research.google.com/notebooks/data_table.ipynb>data table notebook</a>'\n",
              "            + ' to learn more about interactive tables.';\n",
              "          element.innerHTML = '';\n",
              "          dataTable['output_type'] = 'display_data';\n",
              "          await google.colab.output.renderOutput(dataTable, element);\n",
              "          const docLink = document.createElement('div');\n",
              "          docLink.innerHTML = docLinkHtml;\n",
              "          element.appendChild(docLink);\n",
              "        }\n",
              "      </script>\n",
              "    </div>\n",
              "  </div>\n",
              "  "
            ]
          },
          "metadata": {},
          "execution_count": 9
        }
      ]
    },
    {
      "cell_type": "code",
      "source": [
        "countries_mercator.plot()"
      ],
      "metadata": {
        "id": "NM8bsC8DZwRx",
        "colab": {
          "base_uri": "https://localhost:8080/",
          "height": 305
        },
        "outputId": "e2f2ef4c-ffc0-4457-8a0a-518f2e2292a2"
      },
      "execution_count": 10,
      "outputs": [
        {
          "output_type": "execute_result",
          "data": {
            "text/plain": [
              "<matplotlib.axes._subplots.AxesSubplot at 0x7f546aafda60>"
            ]
          },
          "metadata": {},
          "execution_count": 10
        },
        {
          "output_type": "display_data",
          "data": {
            "text/plain": [
              "<Figure size 432x288 with 1 Axes>"
            ],
            "image/png": "[encoded data removed]"
          },
          "metadata": {
            "needs_background": "light"
          }
        }
      ]
    },
    {
      "cell_type": "markdown",
      "source": [
        "#ESERCIZI"
      ],
      "metadata": {
        "id": "xOEW88CLaG-i"
      }
    },
    {
      "cell_type": "markdown",
      "source": [
        "**esercizio 1**\n",
        "\n",
        "- Leggere i set di dati dei distretti (\"data/paris_districts.geojson\") in un GeoDataFrame chiamato districts.\n",
        "- Guarda l'attributo CRS del GeoDataFrame. Riconosci il numero EPSG?\n",
        "Crea un grafico del set di dati dei distretti.\n",
        "- Calcola l'area di tutti i distretti.\n",
        "- Convertire i distretti in un CRS proiettato (utilizzando l'EPSG:2154 per la Francia). Chiama il nuovo set di dati districts_RGF93.\n",
        "- Crea una trama simile di districts_RGF93.\n",
        "- Calcolare nuovamente l'area di tutti i quartieri con districts_RGF93 (il risultato sarà ora espresso in m²).\n",
        "suggerimenti\n",
        "Le informazioni CRS vengono archiviate nell'attributo .crs di un GeoDataFrame.\n",
        "- Creare un semplice grafico di un GeoDataFrame può essere fatto con il metodo .plot().\n",
        "- La conversione in un SR diverso può essere eseguita con il metodo .to_crs() e il SR può essere specificato come numero EPSG utilizzando la parola chiave epsg."
      ],
      "metadata": {
        "id": "3EidZvgI-baV"
      }
    },
    {
      "cell_type": "code",
      "source": [
        "districts = geopandas.read_file(\"https://raw.githubusercontent.com/jorisvandenbossche/geopandas-tutorial/main/data/paris_districts.geojson\")"
      ],
      "metadata": {
        "id": "P7i9M_N2bWD5"
      },
      "execution_count": 19,
      "outputs": []
    },
    {
      "cell_type": "code",
      "source": [
        "districts.crs"
      ],
      "metadata": {
        "id": "eiBCke4x_Js9"
      },
      "execution_count": null,
      "outputs": []
    },
    {
      "cell_type": "code",
      "source": [
        "districts.head()"
      ],
      "metadata": {
        "id": "EpJEziYw_JqF"
      },
      "execution_count": null,
      "outputs": []
    },
    {
      "cell_type": "code",
      "source": [
        "districts.plot()"
      ],
      "metadata": {
        "id": "OJj_BLWK_Jm9"
      },
      "execution_count": null,
      "outputs": []
    },
    {
      "cell_type": "code",
      "source": [
        "districts.geometry.area"
      ],
      "metadata": {
        "id": "Ps6-5elK_JgN"
      },
      "execution_count": null,
      "outputs": []
    },
    {
      "cell_type": "code",
      "source": [
        "districts_RGF93 = districts.to_crs(epsg=2154)"
      ],
      "metadata": {
        "id": "XUGotPGX_X_t"
      },
      "execution_count": 16,
      "outputs": []
    },
    {
      "cell_type": "code",
      "source": [
        "districts_RGF93.plot()"
      ],
      "metadata": {
        "id": "B6hpDrP2_Ym8"
      },
      "execution_count": null,
      "outputs": []
    },
    {
      "cell_type": "code",
      "source": [
        "districts_RGF93.geometry.area"
      ],
      "metadata": {
        "id": "YrQoplu1_dlG"
      },
      "execution_count": null,
      "outputs": []
    },
    {
      "cell_type": "markdown",
      "source": [
        "**esercizio 2**\n",
        "\n",
        "- Leggi i set di dati delle stazioni per biciclette (\"data/paris_bike_stations.geojson\") in un GeoDataFrame chiamato stazioni.\n",
        "- Convertire il set di dati delle stazioni nella proiezione Web Mercator (EPSG:3857). Chiama il risultato stazioni_webmercator e ispeziona il risultato.\n",
        "- Crea un grafico di questo set di dati proiettato (specifica la dimensione del marcatore su 5) e aggiungi una mappa di sfondo usando contestualmente.\n",
        "Suggerimenti\n",
        "- Creare un semplice grafico di un GeoDataFrame può essere fatto con il metodo .plot(). Questo restituisce un oggetto assi matplotlib.\n",
        "- La dimensione del marcatore può essere specificata con la parola chiave markersize se il metodo .plot().\n",
        "- Per aggiungere una mappa di sfondo, usa la funzione contextily.add_basemap(). Prende l'ascia matplotlib a cui aggiungere una mappa come primo argomento."
      ],
      "metadata": {
        "id": "eMosAyxnAH2A"
      }
    },
    {
      "cell_type": "code",
      "source": [
        "stations = geopandas.read_file(\"https://raw.githubusercontent.com/jorisvandenbossche/geopandas-tutorial/main/data/paris_bike_stations.geojson\")\n",
        "stations.head()"
      ],
      "metadata": {
        "id": "lRnNfnLCAdAd"
      },
      "execution_count": null,
      "outputs": []
    },
    {
      "cell_type": "code",
      "source": [
        "stations_webmercator = stations.to_crs(\"EPSG:3857\")\n",
        "stations.head()"
      ],
      "metadata": {
        "id": "QEYQ5dsSAfRF"
      },
      "execution_count": null,
      "outputs": []
    }
  ]
}